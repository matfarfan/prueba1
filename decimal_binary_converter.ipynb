{
  "nbformat": 4,
  "nbformat_minor": 0,
  "metadata": {
    "colab": {
      "provenance": [],
      "include_colab_link": true
    },
    "kernelspec": {
      "name": "python3",
      "display_name": "Python 3"
    },
    "language_info": {
      "name": "python"
    }
  },
  "cells": [
    {
      "cell_type": "markdown",
      "metadata": {
        "id": "view-in-github",
        "colab_type": "text"
      },
      "source": [
        "<a href=\"https://colab.research.google.com/github/matfarfan/prueba1/blob/main/decimal_binary_converter.ipynb\" target=\"_parent\"><img src=\"https://colab.research.google.com/assets/colab-badge.svg\" alt=\"Open In Colab\"/></a>"
      ]
    },
    {
      "cell_type": "code",
      "execution_count": null,
      "metadata": {
        "colab": {
          "base_uri": "https://localhost:8080/"
        },
        "id": "xIe8-s4luQOB",
        "outputId": "186432f4-fe31-4af1-b3b4-8b3df20a1d2e"
      },
      "outputs": [
        {
          "output_type": "stream",
          "name": "stdout",
          "text": [
            "Seleccione una opción:\n",
            "1: Convertir de decimal a binario\n",
            "2: Convertir de binario a decimal\n",
            "Ingrese su opción (1 o 2): 1\n",
            "Ingrese el número decimal que desea convertir: 2489124\n",
            "El número 2489124 en binario es:  1001011111101100100100\n"
          ]
        }
      ],
      "source": [
        "#   ===========================================\n",
        "#   Convertidor de números decimales a binarios\n",
        "#   ===========================================\n",
        "\n",
        "def decimal_a_binario():\n",
        "  # Se solicita y valida el número decimal para su conversion\n",
        "  while True:\n",
        "    decimal = input(\"Ingrese el número decimal que desea convertir: \")\n",
        "    if not decimal.isdigit():\n",
        "        print(\"Formato incorrecto. Ingrese un número válido.\")\n",
        "        continue\n",
        "\n",
        "    decimal_int_op = int(decimal)\n",
        "    break\n",
        "\n",
        "  # Se definen las demas variables que vamos a utilizar\n",
        "  binary = [];\n",
        "  exp = -1;\n",
        "  num_while = 0;\n",
        "\n",
        "  # Buscamos el valor del maximo exponente posible\n",
        "  while num_while < decimal_int_op:\n",
        "    exp += 1;\n",
        "    num_while = 2**exp;\n",
        "\n",
        "  # Utilizamos el valor del maximo exponente para construir, de izquierda a derecha, el número decimal en binario\n",
        "  for i in range(exp, -1, -1):\n",
        "    if decimal_int_op >= 2**i:\n",
        "        decimal_int_op -= 2**i;\n",
        "        binary += \"1\";\n",
        "    else:\n",
        "        binary += \"0\";\n",
        "\n",
        "\n",
        "  # Si el número decimal a convertir es 0, se agrega un unico cero\n",
        "  if int(decimal) == 0:\n",
        "    binary += \"0\"\n",
        "\n",
        "\n",
        "  # Si el número empezo con un 0 a la izquierda, y no el número ingresado no es 0, se le saca ese primer 0 irrelevante a la izquierda\n",
        "  if binary[0] == \"0\" and int(decimal) != 0:\n",
        "    binary.pop(0)\n",
        "\n",
        "\n",
        "  # Unimos el array de los caracteres binarios e imprimimos en pantalla\n",
        "  print(f\"El número {decimal} en binario es: \", \"\".join(binary));\n",
        "\n",
        "\n",
        "\n",
        "#   ===========================================\n",
        "#   Convertidor de números binarios a decimales\n",
        "#   ===========================================\n",
        "\n",
        "def binario_a_decimal ():\n",
        "  # Se solicita al usuario el número binario a convertir\n",
        "  while True:\n",
        "    numero_binario = input(\"Ingrese el número binario que desea convertir a decimal: \")\n",
        "    if not numero_binario.isdigit():\n",
        "        print(\"Formato incorrecto. Ingrese un número válido.\")\n",
        "        continue\n",
        "    break\n",
        "\n",
        "  # Variable valor_posicional, utilizada para calcular las potencias de 2.\n",
        "  valor_posicional = 1\n",
        "\n",
        "  # Variable acumulador, numero_decimal, para llegar al número decimal.\n",
        "  numero_decimal = 0\n",
        "\n",
        "  # Variable contador, cifra_contador, para recorrer cada cifra del binario y para generar la condición de salida del bucle while.\n",
        "  # Se inicializa con el valor correspondiente al indice de la ultima cifra, para recorrer el número binario de izquierda a derecha\n",
        "  cifra_contador = len(numero_binario) - 1\n",
        "\n",
        "  # Bucle while para recorrer cada cifra del número binario\n",
        "  while cifra_contador >= 0:\n",
        "    # Se comprueba si la cifra es el dígito 1\n",
        "    if (int(numero_binario[(cifra_contador)]) == 1):\n",
        "            # Si es 1, se suma al número decimal el valor posicional correspondiente\n",
        "            numero_decimal += valor_posicional\n",
        "\n",
        "    # Se múltiplica por 2 el valor posicional y se resta 1 al contador\n",
        "    valor_posicional *= 2\n",
        "    cifra_contador -= 1\n",
        "\n",
        "  # Se imprime el resultado\n",
        "  print (f\"El número {numero_binario} en decimal es: {numero_decimal}\")\n",
        "\n",
        "\n",
        "# Variable que va a ayudar para que se ejecute el main hasta que se ingrese una opcion valida\n",
        "validator = True\n",
        "\n",
        "def main():\n",
        "    global validator\n",
        "    print(\"Seleccione una opción:\")\n",
        "    print(\"1: Convertir de decimal a binario\")\n",
        "    print(\"2: Convertir de binario a decimal\")\n",
        "    opcion = input(\"Ingrese su opción (1 o 2): \")\n",
        "\n",
        "    if opcion == \"1\":\n",
        "        validator = False;\n",
        "        decimal_a_binario();\n",
        "    elif opcion == \"2\":\n",
        "        validator = False;\n",
        "        binario_a_decimal();\n",
        "    else:\n",
        "        print(\"Opción inválida.\");\n",
        "\n",
        "\n",
        "# Valída para que se ejecute el main, hasta que se ingrese una opcion valida.\n",
        "while validator:\n",
        "  main()\n"
      ]
    },
    {
      "cell_type": "markdown",
      "source": [
        "Explicación del codigo:\n"
      ],
      "metadata": {
        "id": "DI6ef06ARG76"
      }
    }
  ]
}